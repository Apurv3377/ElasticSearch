{
 "cells": [
  {
   "cell_type": "code",
   "execution_count": 195,
   "metadata": {},
   "outputs": [],
   "source": [
    "import sys\n",
    "import os\n",
    "import time\n",
    "import random\n",
    "import json\n",
    "from datetime import timezone, datetime\n",
    "import string\n",
    "import uuid\n",
    "from uuid import UUID\n",
    "import pandas as pd\n",
    "import seaborn as sns\n",
    "b_size=1500"
   ]
  },
  {
   "cell_type": "code",
   "execution_count": 196,
   "metadata": {},
   "outputs": [],
   "source": [
    "def random_generator(size=6, chars=string.ascii_uppercase):\n",
    "    return ''.join(random.choice(chars) for x in range(size))\n",
    "\n",
    "def random_hexgenerator():\n",
    "    hexN=\"0x\"+uuid.uuid4().hex\n",
    "    return hexN[:18]\n",
    "def timestamp_gen():\n",
    "    ts=int(datetime.now(tz=timezone.utc).timestamp() * 1000)\n",
    "    return ts\n",
    "\n",
    "def gendata():\n",
    "    u=str(uuid.uuid1())\n",
    "    value = random.randint(1,90000)\n",
    "    syscall_nr=random_generator(4,'12345')\n",
    "    syscall_name=random_generator(6,\"abcdefghijklmnopqrstuvwxyz\")\n",
    "    dtb=random_hexgenerator()\n",
    "    rsp=random_hexgenerator()\n",
    "    rip=random_hexgenerator()\n",
    "    pid=random.randint(1,10000)\n",
    "    vmid=\"vm\"+random_generator(2,'1234')\n",
    "    logtype=random_generator(3,'xyz')\n",
    "    ACTIONS = []\n",
    "    j=0\n",
    "    \n",
    "    action= {\n",
    "        \"_index\": \"elastic_perf\",\n",
    "        \"_type\": \"logtype\",\n",
    "        \"_source\":{\n",
    "                    'id': u,\n",
    "                    'value': value,\n",
    "                    'syscall_nr': syscall_nr,\n",
    "                    'syscall_name': syscall_name,\n",
    "                    'dtb': dtb,\n",
    "                    'rsp':rsp,\n",
    "                    'rip':rip,\n",
    "                    'pid':pid,\n",
    "                    'vmid':vmid,\n",
    "                    'logtype':logtype\n",
    "                }\n",
    "    }\n",
    "    while j<b_size:\n",
    "        ACTIONS.append(action)\n",
    "        j=j+1\n",
    "        \n",
    "    return ACTIONS"
   ]
  },
  {
   "cell_type": "code",
   "execution_count": 197,
   "metadata": {},
   "outputs": [],
   "source": [
    "import elasticsearch\n",
    "from elasticsearch.helpers import bulk\n",
    "es = elasticsearch.Elasticsearch()\n",
    "\n",
    "write_readings={}\n",
    " \n",
    "documents_number = 20000 * 200000\n",
    "j=0\n",
    "itr=0\n",
    "MAX_ITR=10\n",
    "total_docs=0\n",
    "#f = open('/home/apurv/Readings.csv', 'w')"
   ]
  },
  {
   "cell_type": "code",
   "execution_count": 198,
   "metadata": {},
   "outputs": [
    {
     "name": "stdout",
     "output_type": "stream",
     "text": [
      "inserted  118500  in  10.650512 s\n",
      "average inserts per second is : 11850.0\n"
     ]
    }
   ],
   "source": [
    "startf = datetime.now();\n",
    "\n",
    "batch=0\n",
    "index_name=\"elastic_perf\"\n",
    "\n",
    "#bulk(es,gendata(),stats_only=True)\n",
    "\n",
    "while itr<MAX_ITR:\n",
    "    batchl=0\n",
    "    start = datetime.now();\n",
    "    while True:\n",
    "        batchl=batchl+b_size\n",
    "        bulk(es,gendata(),stats_only=False)\n",
    "        timec=int((datetime.now() - start).total_seconds())\n",
    "        if timec==1:\n",
    "            j=j+1\n",
    "            write_readings[j]=batchl\n",
    "            itr=itr+1\n",
    "            total_docs=total_docs + batchl\n",
    "            break\n",
    "                \n",
    "print ('inserted ',total_docs, ' in ', (datetime.now() - startf).total_seconds(), 's')\n",
    "print ('average inserts per second is :',total_docs/MAX_ITR)"
   ]
  },
  {
   "cell_type": "code",
   "execution_count": 199,
   "metadata": {},
   "outputs": [
    {
     "name": "stdout",
     "output_type": "stream",
     "text": [
      "2237962 documents found\n"
     ]
    }
   ],
   "source": [
    "res = es.search(index=\"elastic_perf\",body={\"from\":0,\"size\":1000,\"query\": {\"match_all\": {}}})\n",
    "print(\"%d documents found\" % res['hits']['total'])\n",
    "\n",
    "#for doc in res['hits']['hits']:\n",
    "        #print(\" Doc ID: %s\\n\" % (doc))"
   ]
  },
  {
   "cell_type": "code",
   "execution_count": 200,
   "metadata": {},
   "outputs": [
    {
     "data": {
      "text/plain": [
       "'query={\"query\": {\"match_all\": {}}}\\nscanResp= es.search(index=\"elastic_perf\", doc_type=\"logtype\", body=query, search_type=\"scan\", scroll=\"1m\")  \\n\\nresponse_tmp = es.scroll(scroll_id=scrollId, scroll= \"1m\")\\nscrollId = response_tmp[\\'_scroll_id\\']\\nprint (response_tmp)'"
      ]
     },
     "execution_count": 200,
     "metadata": {},
     "output_type": "execute_result"
    }
   ],
   "source": [
    "'''query={\"query\": {\"match_all\": {}}}\n",
    "scanResp= es.search(index=\"elastic_perf\", doc_type=\"logtype\", body=query, search_type=\"scan\", scroll=\"1m\")  \n",
    "\n",
    "response_tmp = es.scroll(scroll_id=scrollId, scroll= \"1m\")\n",
    "scrollId = response_tmp['_scroll_id']\n",
    "print (response_tmp)'''"
   ]
  },
  {
   "cell_type": "code",
   "execution_count": 201,
   "metadata": {},
   "outputs": [
    {
     "data": {
      "text/plain": [
       "array([<matplotlib.axes._subplots.AxesSubplot object at 0x7fcd10a2bc50>],\n",
       "      dtype=object)"
      ]
     },
     "execution_count": 201,
     "metadata": {},
     "output_type": "execute_result"
    },
    {
     "data": {
      "image/png": "[encoded data removed]",
      "text/plain": [
       "<Figure size 720x720 with 1 Axes>"
      ]
     },
     "metadata": {
      "needs_background": "light"
     },
     "output_type": "display_data"
    }
   ],
   "source": [
    "producer_df = pd.DataFrame.from_dict(write_readings, orient='index').rename(columns={0: 'write_per_second'})\n",
    "producer_df.sort_index(inplace=True)\n",
    "producer_df\n",
    "producer_df.plot(kind='bar', subplots=True, figsize=(10, 10), title=\"Write Performance\")"
   ]
  },
  {
   "cell_type": "code",
   "execution_count": null,
   "metadata": {},
   "outputs": [],
   "source": []
  },
  {
   "cell_type": "code",
   "execution_count": null,
   "metadata": {},
   "outputs": [],
   "source": []
  }
 ],
 "metadata": {
  "kernelspec": {
   "display_name": "Python 3",
   "language": "python",
   "name": "python3"
  },
  "language_info": {
   "codemirror_mode": {
    "name": "ipython",
    "version": 3
   },
   "file_extension": ".py",
   "mimetype": "text/x-python",
   "name": "python",
   "nbconvert_exporter": "python",
   "pygments_lexer": "ipython3",
   "version": "3.5.3"
  }
 },
 "nbformat": 4,
 "nbformat_minor": 2
}
