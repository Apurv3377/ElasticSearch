{
 "cells": [
  {
   "cell_type": "code",
   "execution_count": 19,
   "metadata": {},
   "outputs": [],
   "source": [
    "import sys\n",
    "import os\n",
    "import time\n",
    "import random\n",
    "import json\n",
    "from datetime import timezone, datetime\n",
    "import string\n",
    "import uuid\n",
    "from uuid import UUID\n",
    "import pandas as pd\n",
    "import seaborn as sns\n",
    "b_size=500"
   ]
  },
  {
   "cell_type": "code",
   "execution_count": 20,
   "metadata": {},
   "outputs": [],
   "source": [
    "def random_generator(size=6, chars=string.ascii_uppercase):\n",
    "    return ''.join(random.choice(chars) for x in range(size))\n",
    "\n",
    "def random_hexgenerator():\n",
    "    hexN=\"0x\"+uuid.uuid4().hex\n",
    "    return hexN[:18]\n",
    "def timestamp_gen():\n",
    "    ts=int(datetime.now(tz=timezone.utc).timestamp() * 1000)\n",
    "    return ts\n",
    "ACTIONS = []\n",
    "j=0\n",
    "    \n",
    "action= {\n",
    "        \"_index\": \"elastic_search_basic12\",\n",
    "        \"_type\": \"logtype\",\n",
    "        \"_source\":{\n",
    "                'id' : '5bd5c0ed6e955219e093bc33',\n",
    "                'syscall_nr':30,\n",
    "                'syscall_name':'lalryu',\n",
    "                'dtb': '0x0faf0689a9a64759',\n",
    "                'rsp':'0xe675808c98ca4518',\n",
    "                'rip':'0x68be8a3fcd604d73',\n",
    "                'pid':3000,\n",
    "                'vmid':'vm24',\n",
    "                'logtype':'yxx'\n",
    "                }\n",
    "    }\n",
    "while j<b_size:\n",
    "    ACTIONS.append(action)\n",
    "    j=j+1"
   ]
  },
  {
   "cell_type": "code",
   "execution_count": 21,
   "metadata": {},
   "outputs": [],
   "source": [
    "import elasticsearch\n",
    "from elasticsearch.helpers import bulk\n",
    "es = elasticsearch.Elasticsearch()\n",
    "\n",
    "write_readings={}\n",
    " \n",
    "documents_number = 20000 * 200000\n",
    "j=0\n",
    "itr=0\n",
    "MAX_ITR=30\n",
    "total_docs=0\n",
    "#f = open('/home/apurv/Readings.csv', 'w')"
   ]
  },
  {
   "cell_type": "code",
   "execution_count": 22,
   "metadata": {
    "scrolled": true
   },
   "outputs": [
    {
     "name": "stdout",
     "output_type": "stream",
     "text": [
      "inserted  310500  in  31.447052 s\n",
      "average inserts per second is : 10350.0\n"
     ]
    }
   ],
   "source": [
    "startf = datetime.now();\n",
    "\n",
    "batch=0\n",
    "index_name=\"elastic_search_basic12\"\n",
    "\n",
    "#bulk(es,gendata(),stats_only=True)\n",
    "\n",
    "while itr<MAX_ITR:\n",
    "    batchl=0\n",
    "    start = datetime.now();\n",
    "    while True:\n",
    "        batchl=batchl+b_size\n",
    "        bulk(es,ACTIONS,stats_only=True)\n",
    "        timec=int((datetime.now() - start).total_seconds())\n",
    "        if timec==1:\n",
    "            j=j+1\n",
    "            write_readings[j]=batchl\n",
    "            itr=itr+1\n",
    "            total_docs=total_docs + batchl\n",
    "            break\n",
    "                \n",
    "print ('inserted ',total_docs, ' in ', (datetime.now() - startf).total_seconds(), 's')\n",
    "print ('average inserts per second is :',total_docs/MAX_ITR)"
   ]
  },
  {
   "cell_type": "code",
   "execution_count": 23,
   "metadata": {},
   "outputs": [
    {
     "name": "stdout",
     "output_type": "stream",
     "text": [
      "1395000 documents found\n"
     ]
    }
   ],
   "source": [
    "res = es.search(index=\"elastic_search_basic12\",body={\"from\":0,\"size\":1000,\"query\": {\"match_all\": {}}})\n",
    "print(\"%d documents found\" % res['hits']['total'])\n",
    "\n",
    "#for doc in res['hits']['hits']:\n",
    "        #print(\" Doc ID: %s\\n\" % (doc))"
   ]
  },
  {
   "cell_type": "code",
   "execution_count": 24,
   "metadata": {},
   "outputs": [
    {
     "data": {
      "text/plain": [
       "'query={\"query\": {\"match_all\": {}}}\\nscanResp= es.search(index=\"elastic_perf\", doc_type=\"logtype\", body=query, search_type=\"scan\", scroll=\"1m\")  \\n\\nresponse_tmp = es.scroll(scroll_id=scrollId, scroll= \"1m\")\\nscrollId = response_tmp[\\'_scroll_id\\']\\nprint (response_tmp)'"
      ]
     },
     "execution_count": 24,
     "metadata": {},
     "output_type": "execute_result"
    }
   ],
   "source": [
    "'''query={\"query\": {\"match_all\": {}}}\n",
    "scanResp= es.search(index=\"elastic_perf\", doc_type=\"logtype\", body=query, search_type=\"scan\", scroll=\"1m\")  \n",
    "\n",
    "response_tmp = es.scroll(scroll_id=scrollId, scroll= \"1m\")\n",
    "scrollId = response_tmp['_scroll_id']\n",
    "print (response_tmp)'''"
   ]
  },
  {
   "cell_type": "code",
   "execution_count": 25,
   "metadata": {},
   "outputs": [
    {
     "name": "stdout",
     "output_type": "stream",
     "text": [
      "(1,11000)\n",
      "(2,12500)\n",
      "(3,11500)\n",
      "(4,13000)\n",
      "(5,13000)\n",
      "(6,10500)\n",
      "(7,2500)\n",
      "(8,8500)\n",
      "(9,12000)\n",
      "(10,12500)\n",
      "(11,13500)\n",
      "(12,14000)\n",
      "(13,14000)\n",
      "(14,12000)\n",
      "(15,11000)\n",
      "(16,13500)\n",
      "(17,6500)\n",
      "(18,3500)\n",
      "(19,8000)\n",
      "(20,12000)\n",
      "(21,11000)\n",
      "(22,9000)\n",
      "(23,6500)\n",
      "(24,10500)\n",
      "(25,11500)\n",
      "(26,13000)\n",
      "(27,8500)\n",
      "(28,3500)\n",
      "(29,11500)\n",
      "(30,10500)\n"
     ]
    }
   ],
   "source": [
    "for i in write_readings:\n",
    "    print('(',i,',',write_readings[i],')',sep='')"
   ]
  },
  {
   "cell_type": "code",
   "execution_count": 26,
   "metadata": {},
   "outputs": [
    {
     "data": {
      "text/plain": [
       "array([<matplotlib.axes._subplots.AxesSubplot object at 0x7f1f22fb38d0>],\n",
       "      dtype=object)"
      ]
     },
     "execution_count": 26,
     "metadata": {},
     "output_type": "execute_result"
    },
    {
     "data": {
      "image/png": "[encoded data removed]",
      "text/plain": [
       "<Figure size 720x720 with 1 Axes>"
      ]
     },
     "metadata": {
      "needs_background": "light"
     },
     "output_type": "display_data"
    }
   ],
   "source": [
    "producer_df = pd.DataFrame.from_dict(write_readings, orient='index').rename(columns={0: 'write_per_second'})\n",
    "producer_df.sort_index(inplace=True)\n",
    "producer_df\n",
    "producer_df.plot(kind='bar', subplots=True, figsize=(10, 10), title=\"Write Performance\")"
   ]
  },
  {
   "cell_type": "code",
   "execution_count": null,
   "metadata": {},
   "outputs": [],
   "source": []
  },
  {
   "cell_type": "code",
   "execution_count": null,
   "metadata": {},
   "outputs": [],
   "source": []
  }
 ],
 "metadata": {
  "kernelspec": {
   "display_name": "Python 3",
   "language": "python",
   "name": "python3"
  },
  "language_info": {
   "codemirror_mode": {
    "name": "ipython",
    "version": 3
   },
   "file_extension": ".py",
   "mimetype": "text/x-python",
   "name": "python",
   "nbconvert_exporter": "python",
   "pygments_lexer": "ipython3",
   "version": "3.5.3"
  }
 },
 "nbformat": 4,
 "nbformat_minor": 2
}
