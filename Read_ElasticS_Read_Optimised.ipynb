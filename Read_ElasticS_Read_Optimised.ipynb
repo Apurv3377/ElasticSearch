{
 "cells": [
  {
   "cell_type": "code",
   "execution_count": 73,
   "metadata": {},
   "outputs": [],
   "source": [
    "import sys\n",
    "import os\n",
    "import time\n",
    "import random\n",
    "import json\n",
    "from datetime import timezone, datetime\n",
    "import string\n",
    "import uuid\n",
    "from uuid import UUID\n",
    "import pandas as pd\n",
    "import seaborn as sns\n",
    "from elasticsearch_dsl import Search"
   ]
  },
  {
   "cell_type": "code",
   "execution_count": 74,
   "metadata": {},
   "outputs": [],
   "source": [
    "def random_generator(size=6, chars=string.ascii_uppercase):\n",
    "    return ''.join(random.choice(chars) for x in range(size))\n",
    "\n",
    "from elasticsearch import Elasticsearch\n",
    "es = Elasticsearch()\n",
    "\n",
    "read_readings={}"
   ]
  },
  {
   "cell_type": "code",
   "execution_count": 75,
   "metadata": {},
   "outputs": [
    {
     "name": "stdout",
     "output_type": "stream",
     "text": [
      "Read 8929  in  30.05706 s\n",
      "average read per second is : 892.9\n"
     ]
    }
   ],
   "source": [
    "total_docs=0\n",
    "j=0\n",
    "itr=0\n",
    "MAX_ITR=30\n",
    "startf = datetime.now();\n",
    "\n",
    "while itr<MAX_ITR: \n",
    "    start = datetime.now();\n",
    "    for index in range(100000000000):\n",
    "        \n",
    "        try:\n",
    "            \n",
    "            vmid1=\"vm\"+random_generator(2,'1234')\n",
    "            \n",
    "            #Query with Filering the data improves the performance..\n",
    "            \n",
    "            s = Search(using=es, index=\"elastic_perf\") \\\n",
    "            .filter(\"term\", logtype=\"xxy\") \\\n",
    "            .query(\"match\", vmid=vmid1)   \\\n",
    "            \n",
    "            response = s.execute()\n",
    "            \n",
    "            \n",
    "            #Without Adding the Filter Performance of the Read is Low.\n",
    "            #res = es.search(index=\"elastic_perf1\",body={\"from\":0,\"size\":1000,\"query\": {\"match\": {\"vmid\":vmid1}}})\n",
    "            #print(\"%d documents found\" % res['hits']['total'])\n",
    "            timec=int((datetime.now() - start).total_seconds())\n",
    "\n",
    "            if timec==1:\n",
    "                j=j+1\n",
    "                itr=itr+1\n",
    "                read_readings[j]=index\n",
    "                total_docs=total_docs + index\n",
    "                break\n",
    "                   \n",
    "        except:\n",
    "            print ('Unexpected error:', sys.exc_info()[0], ', for index ', index)\n",
    "            raise\n",
    "            \n",
    "print ('Read',total_docs, ' in ', (datetime.now() - startf).total_seconds(), 's')\n",
    "print ('average read per second is :',total_docs/10)"
   ]
  },
  {
   "cell_type": "code",
   "execution_count": 76,
   "metadata": {},
   "outputs": [
    {
     "data": {
      "text/plain": [
       "array([<matplotlib.axes._subplots.AxesSubplot object at 0x7fcac23cec50>],\n",
       "      dtype=object)"
      ]
     },
     "execution_count": 76,
     "metadata": {},
     "output_type": "execute_result"
    },
    {
     "data": {
      "image/png": "[encoded data removed]",
      "text/plain": [
       "<Figure size 720x720 with 1 Axes>"
      ]
     },
     "metadata": {
      "needs_background": "light"
     },
     "output_type": "display_data"
    }
   ],
   "source": [
    "producer_df = pd.DataFrame.from_dict(read_readings, orient='index').rename(columns={0: 'read_per_second'})\n",
    "producer_df.sort_index(inplace=True)\n",
    "producer_df\n",
    "producer_df.plot(kind='bar', subplots=True, figsize=(10, 10), title=\"Read Performance\")"
   ]
  },
  {
   "cell_type": "code",
   "execution_count": null,
   "metadata": {},
   "outputs": [],
   "source": []
  }
 ],
 "metadata": {
  "kernelspec": {
   "display_name": "Python 3",
   "language": "python",
   "name": "python3"
  },
  "language_info": {
   "codemirror_mode": {
    "name": "ipython",
    "version": 3
   },
   "file_extension": ".py",
   "mimetype": "text/x-python",
   "name": "python",
   "nbconvert_exporter": "python",
   "pygments_lexer": "ipython3",
   "version": "3.5.3"
  }
 },
 "nbformat": 4,
 "nbformat_minor": 2
}
