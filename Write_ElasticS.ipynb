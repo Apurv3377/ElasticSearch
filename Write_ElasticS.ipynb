{
 "cells": [
  {
   "cell_type": "code",
   "execution_count": 108,
   "metadata": {},
   "outputs": [],
   "source": [
    "import sys\n",
    "import os\n",
    "import time\n",
    "import random\n",
    "import json\n",
    "from datetime import timezone, datetime\n",
    "import string\n",
    "import uuid\n",
    "from uuid import UUID\n",
    "import pandas as pd\n",
    "import seaborn as sns"
   ]
  },
  {
   "cell_type": "code",
   "execution_count": 109,
   "metadata": {},
   "outputs": [],
   "source": [
    "def random_generator(size=6, chars=string.ascii_uppercase):\n",
    "    return ''.join(random.choice(chars) for x in range(size))\n",
    "\n",
    "def random_hexgenerator():\n",
    "    hexN=\"0x\"+uuid.uuid4().hex\n",
    "    return hexN[:18]\n",
    "def timestamp_gen():\n",
    "    ts=int(datetime.now(tz=timezone.utc).timestamp() * 1000)\n",
    "    return ts"
   ]
  },
  {
   "cell_type": "code",
   "execution_count": 110,
   "metadata": {},
   "outputs": [],
   "source": [
    "import elasticsearch\n",
    "es = elasticsearch.Elasticsearch()\n",
    "\n",
    "write_readings={}\n",
    " \n",
    "documents_number = 20000 * 200000\n",
    "j=0\n",
    "itr=0\n",
    "MAX_ITR=15\n",
    "total_docs=0"
   ]
  },
  {
   "cell_type": "code",
   "execution_count": 111,
   "metadata": {},
   "outputs": [
    {
     "name": "stdout",
     "output_type": "stream",
     "text": [
      "inserted  3767  in  15.079519 s\n",
      "average inserts per second is : 251.13333333333333\n"
     ]
    }
   ],
   "source": [
    "startf = datetime.now();\n",
    "while itr<MAX_ITR: \n",
    "    start = datetime.now();\n",
    "    for index1 in range(documents_number):\n",
    "        \n",
    "        try:\n",
    "            u=str(uuid.uuid1())\n",
    "            value = random.randint(1,90000)\n",
    "            syscall_nr=random_generator(4,'12345')\n",
    "            syscall_name=random_generator(6,\"abcdefghijklmnopqrstuvwxyz\")\n",
    "            dtb=random_hexgenerator()\n",
    "            rsp=random_hexgenerator()\n",
    "            rip=random_hexgenerator()\n",
    "            pid=random.randint(1,10000)\n",
    "            vmid=\"vm\"+random_generator(2,'1234')\n",
    "            logtype=random_generator(3,'xyz')\n",
    "            \n",
    "            es.index(index='elastic_perf', doc_type='logtype', id=u, body={\n",
    "                'id': u,\n",
    "                'value': value,\n",
    "                'syscall_nr': syscall_nr,\n",
    "                'syscall_name': syscall_name,\n",
    "                'dtb': dtb,\n",
    "                'rsp':rsp,\n",
    "                'rip':rip,\n",
    "                'pid':pid,\n",
    "                'vmid':vmid,\n",
    "                'logtype':logtype\n",
    "            })\n",
    "            \n",
    "            \n",
    "            #calculate the time for the insert\n",
    "            timec=int((datetime.now() - start).total_seconds())\n",
    "\n",
    "            if timec==1:\n",
    "                #print (timec, 'secs for',index)\n",
    "                \n",
    "                j=j+1\n",
    "                write_readings[j]=index1\n",
    "                #f.write(\"%d,%d\\n\" %(j, index))\n",
    "                itr=itr+1\n",
    "                \n",
    "                total_docs=total_docs + index1\n",
    "                break\n",
    "                   \n",
    "        except:\n",
    "            print ('Unexpected error:', sys.exc_info()[0], ', for index ', index)\n",
    "            raise\n",
    "print ('inserted ',total_docs, ' in ', (datetime.now() - startf).total_seconds(), 's')\n",
    "print ('average inserts per second is :',total_docs/MAX_ITR)"
   ]
  },
  {
   "cell_type": "code",
   "execution_count": 112,
   "metadata": {},
   "outputs": [
    {
     "name": "stdout",
     "output_type": "stream",
     "text": [
      "12494 documents found\n"
     ]
    }
   ],
   "source": [
    "res = es.search(index=\"elastic_perf\",body={\"from\":0,\"size\":1000,\"query\": {\"match_all\": {}}})\n",
    "print(\"%d documents found\" % res['hits']['total'])\n",
    "\n",
    "#for doc in res['hits']['hits']:\n",
    " #       print (\" Doc ID: %s\" % (doc['_id']))"
   ]
  },
  {
   "cell_type": "code",
   "execution_count": 113,
   "metadata": {},
   "outputs": [
    {
     "data": {
      "text/plain": [
       "'query={\"query\": {\"match_all\": {}}}\\nscanResp= es.search(index=\"elastic_perf\", doc_type=\"logtype\", body=query, search_type=\"scan\", scroll=\"1m\")  \\n\\nresponse_tmp = es.scroll(scroll_id=scrollId, scroll= \"1m\")\\nscrollId = response_tmp[\\'_scroll_id\\']\\nprint (response_tmp)'"
      ]
     },
     "execution_count": 113,
     "metadata": {},
     "output_type": "execute_result"
    }
   ],
   "source": [
    "'''query={\"query\": {\"match_all\": {}}}\n",
    "scanResp= es.search(index=\"elastic_perf\", doc_type=\"logtype\", body=query, search_type=\"scan\", scroll=\"1m\")  \n",
    "\n",
    "response_tmp = es.scroll(scroll_id=scrollId, scroll= \"1m\")\n",
    "scrollId = response_tmp['_scroll_id']\n",
    "print (response_tmp)'''"
   ]
  },
  {
   "cell_type": "code",
   "execution_count": 114,
   "metadata": {},
   "outputs": [
    {
     "data": {
      "text/plain": [
       "array([<matplotlib.axes._subplots.AxesSubplot object at 0x7fd0c7783128>],\n",
       "      dtype=object)"
      ]
     },
     "execution_count": 114,
     "metadata": {},
     "output_type": "execute_result"
    },
    {
     "data": {
      "image/png": "[encoded data removed]",
      "text/plain": [
       "<Figure size 720x720 with 1 Axes>"
      ]
     },
     "metadata": {
      "needs_background": "light"
     },
     "output_type": "display_data"
    }
   ],
   "source": [
    "producer_df = pd.DataFrame.from_dict(write_readings, orient='index').rename(columns={0: 'write_per_second'})\n",
    "producer_df.sort_index(inplace=True)\n",
    "producer_df\n",
    "producer_df.plot(kind='bar', subplots=True, figsize=(10, 10), title=\"Write Performance\")"
   ]
  },
  {
   "cell_type": "code",
   "execution_count": null,
   "metadata": {},
   "outputs": [],
   "source": []
  }
 ],
 "metadata": {
  "kernelspec": {
   "display_name": "Python 3",
   "language": "python",
   "name": "python3"
  },
  "language_info": {
   "codemirror_mode": {
    "name": "ipython",
    "version": 3
   },
   "file_extension": ".py",
   "mimetype": "text/x-python",
   "name": "python",
   "nbconvert_exporter": "python",
   "pygments_lexer": "ipython3",
   "version": "3.5.3"
  }
 },
 "nbformat": 4,
 "nbformat_minor": 2
}
